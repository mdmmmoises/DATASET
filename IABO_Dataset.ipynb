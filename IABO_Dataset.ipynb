{
  "nbformat": 4,
  "nbformat_minor": 0,
  "metadata": {
    "colab": {
      "provenance": [],
      "collapsed_sections": [],
      "include_colab_link": true
    },
    "kernelspec": {
      "name": "python3",
      "display_name": "Python 3"
    },
    "language_info": {
      "name": "python"
    }
  },
  "cells": [
    {
      "cell_type": "markdown",
      "metadata": {
        "id": "view-in-github",
        "colab_type": "text"
      },
      "source": [
        "<a href=\"https://colab.research.google.com/github/mdmmmoises/DATASET/blob/main/IABO_Dataset.ipynb\" target=\"_parent\"><img src=\"https://colab.research.google.com/assets/colab-badge.svg\" alt=\"Open In Colab\"/></a>"
      ]
    },
    {
      "cell_type": "markdown",
      "source": [
        "#**CARACTERIZACIÓN, CREACIÓN DE DATASET Y LECTURA**\n",
        "\n",
        "***IABO - Inteligencia Artificial de Borde***\n",
        "\n",
        "Javier Chaparro"
      ],
      "metadata": {
        "id": "SZJ8C8F5Oln5"
      }
    },
    {
      "cell_type": "markdown",
      "source": [
        "#**Caracterización de las señales de la IMU**\n",
        "\n",
        "En esta primera parte se hace una explicación de la forma de crear un dataset a partir de señales de un sensor inercial embebido en un SoC 33BLEsense desde un archivo de Excel."
      ],
      "metadata": {
        "id": "dPPMM-2vs9mB"
      }
    },
    {
      "cell_type": "markdown",
      "source": [
        "Lectura de los datos de archivo de excel\n",
        "\n",
        "Archivos recomendados: \n",
        "1. Adelante.xlsx\n",
        "2. Retroceder.xlsx\n",
        "3. Giro izquierda.xlsx\n",
        "4. Giro derecha.xlsx\n",
        "5. Detener.xlsx"
      ],
      "metadata": {
        "id": "np6fzsuO4iZX"
      }
    },
    {
      "cell_type": "code",
      "source": [
        "!git clone https://github.com/mdmmmoises/DATASET.git"
      ],
      "metadata": {
        "colab": {
          "base_uri": "https://localhost:8080/"
        },
        "id": "GkgVGvfYnFSt",
        "outputId": "34326be6-703f-4a86-eb9f-ffd6a386b3a3"
      },
      "execution_count": 10,
      "outputs": [
        {
          "output_type": "stream",
          "name": "stdout",
          "text": [
            "Cloning into 'DATASET'...\n",
            "remote: Enumerating objects: 55, done.\u001b[K\n",
            "remote: Counting objects: 100% (55/55), done.\u001b[K\n",
            "remote: Compressing objects: 100% (50/50), done.\u001b[K\n",
            "remote: Total 55 (delta 10), reused 0 (delta 0), pack-reused 0\u001b[K\n",
            "Unpacking objects: 100% (55/55), done.\n"
          ]
        }
      ]
    },
    {
      "cell_type": "markdown",
      "source": [
        "Se instalan librarias para leer archivo XLSX"
      ],
      "metadata": {
        "id": "EC3FgQ0Ptdw-"
      }
    },
    {
      "cell_type": "code",
      "source": [
        "import pandas as pd\n",
        "import numpy as np\n",
        "import matplotlib.pyplot as plt\n",
        "import xlrd\n",
        "wb=xlrd.open_workbook(\"/content/DATASET/Adelante.xlsx\")\n",
        "sheet = wb.sheet_by_index(0)\n",
        "# Lectura de las variables de la IMU\n",
        "ax=sheet.col_values(0)\n",
        "ay=sheet.col_values(1)\n",
        "az=sheet.col_values(2)\n",
        "gx=sheet.col_values(3)\n",
        "gy=sheet.col_values(4)\n",
        "gz=sheet.col_values(5)\n",
        "# Gráfica de las variables\n",
        "plt.subplot(321)\n",
        "plt.plot(ax)\n",
        "plt.subplot(322)\n",
        "plt.plot(ay)\n",
        "plt.subplot(323)\n",
        "plt.plot(az)\n",
        "plt.subplot(324)\n",
        "plt.plot(gx)\n",
        "plt.subplot(325)\n",
        "plt.plot(gy)\n",
        "plt.subplot(326)\n",
        "plt.plot(gz)"
      ],
      "metadata": {
        "id": "V_8SPh7_Uk5s",
        "colab": {
          "base_uri": "https://localhost:8080/",
          "height": 282
        },
        "outputId": "baeb054e-db9d-45b5-c10d-9b6d010bf91c"
      },
      "execution_count": 11,
      "outputs": [
        {
          "output_type": "execute_result",
          "data": {
            "text/plain": [
              "[<matplotlib.lines.Line2D at 0x7f2999b6b9d0>]"
            ]
          },
          "metadata": {},
          "execution_count": 11
        },
        {
          "output_type": "display_data",
          "data": {
            "text/plain": [
              "<Figure size 432x288 with 6 Axes>"
            ],
            "image/png": "[encoded data removed]"
          },
          "metadata": {
            "needs_background": "light"
          }
        }
      ]
    },
    {
      "cell_type": "code",
      "source": [
        "N=10.0                      # Número de muestras\n",
        "nV=np.array(np.shape(ax))   # Número de muestras de la señal\n",
        "segment = np.floor(nV/N)    # Número de segmetos de la señal\n",
        "print(\"Segmentos : \",segment)"
      ],
      "metadata": {
        "id": "cKa30WONY1MM",
        "colab": {
          "base_uri": "https://localhost:8080/"
        },
        "outputId": "9d917866-d829-4750-e40f-0ddeb1e2fa04"
      },
      "execution_count": 12,
      "outputs": [
        {
          "output_type": "stream",
          "name": "stdout",
          "text": [
            "Segmentos :  [999.]\n"
          ]
        }
      ]
    },
    {
      "cell_type": "code",
      "source": [
        "wb=xlrd.open_workbook(\"/content/DATASET/Adelante.xlsx\")\n",
        "sheet = wb.sheet_by_index(0)\n",
        "ax=sheet.col_values(0)\n",
        "ay=sheet.col_values(1)\n",
        "az=sheet.col_values(2)\n",
        "gx=sheet.col_values(3)\n",
        "gy=sheet.col_values(4)\n",
        "gz=sheet.col_values(5)\n",
        "var_ventana_axPAdelante=[]\n",
        "var_ventana_ayPAdelante=[]\n",
        "var_ventana_azPAdelante=[]\n",
        "var_ventana_gxPAdelante=[]\n",
        "var_ventana_gyPAdelante=[]\n",
        "var_ventana_gzPAdelante=[]\n",
        "\n",
        "for i in range (0,np.int(segment)):\n",
        "  ventana_axPA=ax[int(i*N):int((i+1)*N)]\n",
        "  ventana_ayPA=ay[int(i*N):int((i+1)*N)]\n",
        "  ventana_azPA=az[int(i*N):int((i+1)*N)]\n",
        "  ventana_gxPA=gx[int(i*N):int((i+1)*N)]\n",
        "  ventana_gyPA=gy[int(i*N):int((i+1)*N)]\n",
        "  ventana_gzPA=gz[int(i*N):int((i+1)*N)]\n",
        "  var_ventana_axPAdelante.append(np.var(ventana_axPA))\n",
        "  var_ventana_ayPAdelante.append(np.var(ventana_ayPA))\n",
        "  var_ventana_azPAdelante.append(np.var(ventana_azPA))\n",
        "  var_ventana_gxPAdelante.append(np.var(ventana_gxPA))\n",
        "  var_ventana_gyPAdelante.append(np.var(ventana_gyPA))\n",
        "  var_ventana_gzPAdelante.append(np.var(ventana_gzPA))\n",
        "\n",
        "\n"
      ],
      "metadata": {
        "id": "ZgAh4NgyrSby",
        "colab": {
          "base_uri": "https://localhost:8080/"
        },
        "outputId": "6da108cf-d0ed-4e16-c5a5-06f8566b4289"
      },
      "execution_count": 13,
      "outputs": [
        {
          "output_type": "stream",
          "name": "stderr",
          "text": [
            "/usr/local/lib/python3.7/dist-packages/ipykernel_launcher.py:16: DeprecationWarning: `np.int` is a deprecated alias for the builtin `int`. To silence this warning, use `int` by itself. Doing this will not modify any behavior and is safe. When replacing `np.int`, you may wish to use e.g. `np.int64` or `np.int32` to specify the precision. If you wish to review your current use, check the release note link for additional information.\n",
            "Deprecated in NumPy 1.20; for more details and guidance: https://numpy.org/devdocs/release/1.20.0-notes.html#deprecations\n",
            "  app.launch_new_instance()\n"
          ]
        }
      ]
    },
    {
      "cell_type": "code",
      "source": [
        "wb=xlrd.open_workbook(\"/content/DATASET/Retroceder.xlsx\")\n",
        "sheet = wb.sheet_by_index(0)\n",
        "ax=sheet.col_values(0)\n",
        "ay=sheet.col_values(1)\n",
        "az=sheet.col_values(2)\n",
        "gx=sheet.col_values(3)\n",
        "gy=sheet.col_values(4)\n",
        "gz=sheet.col_values(5)\n",
        "var_ventana_axPAtras=[]\n",
        "var_ventana_ayPAtras=[]\n",
        "var_ventana_azPAtras=[]\n",
        "var_ventana_gxPAtras=[]\n",
        "var_ventana_gyPAtras=[]\n",
        "var_ventana_gzPAtras=[]\n",
        "\n",
        "for i in range (0,np.int(segment)):\n",
        "  ventana_axPA=ax[int(i*N):int((i+1)*N)]\n",
        "  ventana_ayPA=ay[int(i*N):int((i+1)*N)]\n",
        "  ventana_azPA=az[int(i*N):int((i+1)*N)]\n",
        "  ventana_gxPA=gx[int(i*N):int((i+1)*N)]\n",
        "  ventana_gyPA=gy[int(i*N):int((i+1)*N)]\n",
        "  ventana_gzPA=gz[int(i*N):int((i+1)*N)]\n",
        "  var_ventana_axPAtras.append(np.var(ventana_axPA))\n",
        "  var_ventana_ayPAtras.append(np.var(ventana_ayPA))\n",
        "  var_ventana_azPAtras.append(np.var(ventana_azPA))\n",
        "  var_ventana_gxPAtras.append(np.var(ventana_gxPA))\n",
        "  var_ventana_gyPAtras.append(np.var(ventana_gyPA))\n",
        "  var_ventana_gzPAtras.append(np.var(ventana_gzPA))"
      ],
      "metadata": {
        "colab": {
          "base_uri": "https://localhost:8080/"
        },
        "id": "QrR9fG8kZpsT",
        "outputId": "e095aade-a4af-482c-d437-430c08dba992"
      },
      "execution_count": 14,
      "outputs": [
        {
          "output_type": "stream",
          "name": "stderr",
          "text": [
            "/usr/local/lib/python3.7/dist-packages/ipykernel_launcher.py:16: DeprecationWarning: `np.int` is a deprecated alias for the builtin `int`. To silence this warning, use `int` by itself. Doing this will not modify any behavior and is safe. When replacing `np.int`, you may wish to use e.g. `np.int64` or `np.int32` to specify the precision. If you wish to review your current use, check the release note link for additional information.\n",
            "Deprecated in NumPy 1.20; for more details and guidance: https://numpy.org/devdocs/release/1.20.0-notes.html#deprecations\n",
            "  app.launch_new_instance()\n"
          ]
        }
      ]
    },
    {
      "cell_type": "code",
      "source": [
        "wb=xlrd.open_workbook(\"/content/DATASET/Giro Izquierda.xlsx\")\n",
        "sheet = wb.sheet_by_index(0)\n",
        "ax=sheet.col_values(0)\n",
        "ay=sheet.col_values(1)\n",
        "az=sheet.col_values(2)\n",
        "gx=sheet.col_values(3)\n",
        "gy=sheet.col_values(4)\n",
        "gz=sheet.col_values(5)\n",
        "var_ventana_axPizquierda=[]\n",
        "var_ventana_ayPizquierda=[]\n",
        "var_ventana_azPizquierda=[]\n",
        "var_ventana_gxPizquierda=[]\n",
        "var_ventana_gyPizquierda=[]\n",
        "var_ventana_gzPizquierda=[]\n",
        "\n",
        "for i in range (0,np.int(segment)):\n",
        "  ventana_axPA=ax[int(i*N):int((i+1)*N)]\n",
        "  ventana_ayPA=ay[int(i*N):int((i+1)*N)]\n",
        "  ventana_azPA=az[int(i*N):int((i+1)*N)]\n",
        "  ventana_gxPA=gx[int(i*N):int((i+1)*N)]\n",
        "  ventana_gyPA=gy[int(i*N):int((i+1)*N)]\n",
        "  ventana_gzPA=gz[int(i*N):int((i+1)*N)]\n",
        "  var_ventana_axPizquierda.append(np.var(ventana_axPA))\n",
        "  var_ventana_ayPizquierda.append(np.var(ventana_ayPA))\n",
        "  var_ventana_azPizquierda.append(np.var(ventana_azPA))\n",
        "  var_ventana_gxPizquierda.append(np.var(ventana_gxPA))\n",
        "  var_ventana_gyPizquierda.append(np.var(ventana_gyPA))\n",
        "  var_ventana_gzPizquierda.append(np.var(ventana_gzPA))"
      ],
      "metadata": {
        "colab": {
          "base_uri": "https://localhost:8080/"
        },
        "id": "Q3sIcQO9aMzG",
        "outputId": "97227037-e642-4479-f66a-48b663ed8564"
      },
      "execution_count": 15,
      "outputs": [
        {
          "output_type": "stream",
          "name": "stderr",
          "text": [
            "/usr/local/lib/python3.7/dist-packages/ipykernel_launcher.py:16: DeprecationWarning: `np.int` is a deprecated alias for the builtin `int`. To silence this warning, use `int` by itself. Doing this will not modify any behavior and is safe. When replacing `np.int`, you may wish to use e.g. `np.int64` or `np.int32` to specify the precision. If you wish to review your current use, check the release note link for additional information.\n",
            "Deprecated in NumPy 1.20; for more details and guidance: https://numpy.org/devdocs/release/1.20.0-notes.html#deprecations\n",
            "  app.launch_new_instance()\n"
          ]
        }
      ]
    },
    {
      "cell_type": "code",
      "source": [
        "wb=xlrd.open_workbook(\"/content/DATASET/Giro Derecha.xlsx\")\n",
        "sheet = wb.sheet_by_index(0)\n",
        "ax=sheet.col_values(0)\n",
        "ay=sheet.col_values(1)\n",
        "az=sheet.col_values(2)\n",
        "gx=sheet.col_values(3)\n",
        "gy=sheet.col_values(4)\n",
        "gz=sheet.col_values(5)\n",
        "var_ventana_axPDer=[]\n",
        "var_ventana_ayPDer=[]\n",
        "var_ventana_azPDer=[]\n",
        "var_ventana_gxPDer=[]\n",
        "var_ventana_gyPDer=[]\n",
        "var_ventana_gzPDer=[]\n",
        "\n",
        "for i in range (0,np.int(segment)):\n",
        "  ventana_axPA=ax[int(i*N):int((i+1)*N)]\n",
        "  ventana_ayPA=ay[int(i*N):int((i+1)*N)]\n",
        "  ventana_azPA=az[int(i*N):int((i+1)*N)]\n",
        "  ventana_gxPA=gx[int(i*N):int((i+1)*N)]\n",
        "  ventana_gyPA=gy[int(i*N):int((i+1)*N)]\n",
        "  ventana_gzPA=gz[int(i*N):int((i+1)*N)]\n",
        "  var_ventana_axPDer.append(np.var(ventana_axPA))\n",
        "  var_ventana_ayPDer.append(np.var(ventana_ayPA))\n",
        "  var_ventana_azPDer.append(np.var(ventana_azPA))\n",
        "  var_ventana_gxPDer.append(np.var(ventana_gxPA))\n",
        "  var_ventana_gyPDer.append(np.var(ventana_gyPA))\n",
        "  var_ventana_gzPDer.append(np.var(ventana_gzPA))"
      ],
      "metadata": {
        "colab": {
          "base_uri": "https://localhost:8080/"
        },
        "id": "zIb3t2TzbJuB",
        "outputId": "50db0779-9870-4e85-dc57-b4607c855c0a"
      },
      "execution_count": 16,
      "outputs": [
        {
          "output_type": "stream",
          "name": "stderr",
          "text": [
            "/usr/local/lib/python3.7/dist-packages/ipykernel_launcher.py:16: DeprecationWarning: `np.int` is a deprecated alias for the builtin `int`. To silence this warning, use `int` by itself. Doing this will not modify any behavior and is safe. When replacing `np.int`, you may wish to use e.g. `np.int64` or `np.int32` to specify the precision. If you wish to review your current use, check the release note link for additional information.\n",
            "Deprecated in NumPy 1.20; for more details and guidance: https://numpy.org/devdocs/release/1.20.0-notes.html#deprecations\n",
            "  app.launch_new_instance()\n"
          ]
        }
      ]
    },
    {
      "cell_type": "code",
      "source": [
        "wb=xlrd.open_workbook(\"/content/DATASET/Detener.xlsx\")\n",
        "sheet = wb.sheet_by_index(0)\n",
        "ax=sheet.col_values(0)\n",
        "ay=sheet.col_values(1)\n",
        "az=sheet.col_values(2)\n",
        "gx=sheet.col_values(3)\n",
        "gy=sheet.col_values(4)\n",
        "gz=sheet.col_values(5)\n",
        "var_ventana_axPS=[]\n",
        "var_ventana_ayPS=[]\n",
        "var_ventana_azPS=[]\n",
        "var_ventana_gxPS=[]\n",
        "var_ventana_gyPS=[]\n",
        "var_ventana_gzPS=[]\n",
        "\n",
        "for i in range (0,np.int(segment)):\n",
        "  ventana_axPA=ax[int(i*N):int((i+1)*N)]\n",
        "  ventana_ayPA=ay[int(i*N):int((i+1)*N)]\n",
        "  ventana_azPA=az[int(i*N):int((i+1)*N)]\n",
        "  ventana_gxPA=gx[int(i*N):int((i+1)*N)]\n",
        "  ventana_gyPA=gy[int(i*N):int((i+1)*N)]\n",
        "  ventana_gzPA=gz[int(i*N):int((i+1)*N)]\n",
        "  var_ventana_axPS.append(np.var(ventana_axPA))\n",
        "  var_ventana_ayPS.append(np.var(ventana_ayPA))\n",
        "  var_ventana_azPS.append(np.var(ventana_azPA))\n",
        "  var_ventana_gxPS.append(np.var(ventana_gxPA))\n",
        "  var_ventana_gyPS.append(np.var(ventana_gyPA))\n",
        "  var_ventana_gzPS.append(np.var(ventana_gzPA))"
      ],
      "metadata": {
        "id": "PZXALAhubvuY",
        "colab": {
          "base_uri": "https://localhost:8080/"
        },
        "outputId": "4216078e-a960-4068-b5e1-2aa23a0d277d"
      },
      "execution_count": 17,
      "outputs": [
        {
          "output_type": "stream",
          "name": "stderr",
          "text": [
            "/usr/local/lib/python3.7/dist-packages/ipykernel_launcher.py:16: DeprecationWarning: `np.int` is a deprecated alias for the builtin `int`. To silence this warning, use `int` by itself. Doing this will not modify any behavior and is safe. When replacing `np.int`, you may wish to use e.g. `np.int64` or `np.int32` to specify the precision. If you wish to review your current use, check the release note link for additional information.\n",
            "Deprecated in NumPy 1.20; for more details and guidance: https://numpy.org/devdocs/release/1.20.0-notes.html#deprecations\n",
            "  app.launch_new_instance()\n"
          ]
        }
      ]
    },
    {
      "cell_type": "markdown",
      "source": [
        "Comparación gráfica de la característica \"Varianza\" en las dos clases (PIEDRA y PASTO)"
      ],
      "metadata": {
        "id": "s-HVP9RtuU8F"
      }
    },
    {
      "cell_type": "markdown",
      "source": [
        "Creación del vector de clases de los dos grupos"
      ],
      "metadata": {
        "id": "bU77W1Yh9PdN"
      }
    },
    {
      "cell_type": "code",
      "source": [
        "N=np.size(var_ventana_ayPAdelante)\n",
        "clases=[]\n",
        "clasePI=[]\n",
        "for n in range(N):\n",
        "  clases.append(0)\n",
        "  clasePI.append(0)\n",
        "N=np.size(var_ventana_ayPS)\n",
        "for n in range(N):\n",
        "  clases.append(1)\n",
        "  clasePI.append(1)\n",
        "N=np.size(var_ventana_ayPAtras)\n",
        "for n in range(N):\n",
        "  clases.append(2)\n",
        "  clasePI.append(2)\n",
        "N=np.size(var_ventana_ayPizquierda)\n",
        "for n in range(N):\n",
        "  clases.append(3)\n",
        "  clasePI.append(3)\n",
        "N=np.size(var_ventana_ayPDer)\n",
        "for n in range(N):\n",
        "  clases.append(4)\n",
        "  clasePI.append(4)\n",
        "clases=np.transpose(clases)\n",
        "print(clases)"
      ],
      "metadata": {
        "id": "RLEXzCWxDmq5",
        "colab": {
          "base_uri": "https://localhost:8080/"
        },
        "outputId": "c7ed445e-2045-49cd-d042-e2e12cb802db"
      },
      "execution_count": 18,
      "outputs": [
        {
          "output_type": "stream",
          "name": "stdout",
          "text": [
            "[0 0 0 ... 4 4 4]\n"
          ]
        }
      ]
    },
    {
      "cell_type": "markdown",
      "source": [
        "#**Creación de Dataset**"
      ],
      "metadata": {
        "id": "-eRtsZ-x7fhF"
      }
    },
    {
      "cell_type": "markdown",
      "source": [
        "Teniendo las características anteriores se crea el Dataset  a partir de un Dataframe"
      ],
      "metadata": {
        "id": "Wnv9L2cb7jPM"
      }
    },
    {
      "cell_type": "code",
      "source": [
        "# Unión de las dos características anteriores\n",
        "caracteristica0=var_ventana_axPAdelante + var_ventana_axPAtras + var_ventana_axPizquierda + var_ventana_axPDer +  var_ventana_axPS\n",
        "caracteristica1=var_ventana_ayPAdelante + var_ventana_ayPAtras + var_ventana_ayPizquierda + var_ventana_ayPDer +  var_ventana_ayPS\n",
        "caracteristica2=var_ventana_azPAdelante + var_ventana_azPAtras + var_ventana_azPizquierda + var_ventana_azPDer +  var_ventana_azPS\n",
        "caracteristica3=var_ventana_gxPAdelante + var_ventana_gxPAtras + var_ventana_gxPizquierda + var_ventana_gxPDer +  var_ventana_gxPS\n",
        "caracteristica4=var_ventana_gyPAdelante + var_ventana_gyPAtras + var_ventana_gyPizquierda + var_ventana_gyPDer +  var_ventana_gyPS\n",
        "caracteristica5=var_ventana_gzPAdelante + var_ventana_gzPAtras + var_ventana_gzPizquierda + var_ventana_gzPDer +  var_ventana_gzPS\n",
        "caracteristicas=[caracteristica0,caracteristica1,caracteristica2,caracteristica3,caracteristica4,caracteristica5]\n",
        "caracteristicas=np.array(np.transpose(caracteristicas))"
      ],
      "metadata": {
        "id": "yowv5MgHE7mv"
      },
      "execution_count": 19,
      "outputs": []
    },
    {
      "cell_type": "markdown",
      "source": [
        "Creación de archivo de Excel con las características y clases"
      ],
      "metadata": {
        "id": "D7ljwz4YvaMU"
      }
    },
    {
      "cell_type": "code",
      "source": [
        "# Creación del DataFrame\n",
        "import pandas as pd\n",
        "\n",
        "datos={\n",
        "       'Varianza_aX': caracteristica0,\n",
        "       'Varianza_aY': caracteristica1,\n",
        "       'Varianza_aZ': caracteristica2,\n",
        "       'Varianza_gX': caracteristica3,\n",
        "       'Varianza_gY': caracteristica4,\n",
        "       'Varianza_gZ': caracteristica5,\n",
        "       'Suelo':clases}\n",
        "\n",
        "datosDF=pd.DataFrame(datos)\n",
        "print(datosDF)"
      ],
      "metadata": {
        "id": "rJnK4AZ_CUwY",
        "colab": {
          "base_uri": "https://localhost:8080/"
        },
        "outputId": "0b6ca503-3824-426f-ee9d-3fe14a0b4be5"
      },
      "execution_count": 20,
      "outputs": [
        {
          "output_type": "stream",
          "name": "stdout",
          "text": [
            "      Varianza_aX  Varianza_aY   Varianza_aZ  Varianza_gX  Varianza_gY  \\\n",
            "0        0.000076     0.000041  1.232595e-32     0.251336     2.085889   \n",
            "1        0.000524     0.001196  2.050000e-04    18.475069    38.171321   \n",
            "2        0.002441     0.003484  1.381000e-03     8.468021    12.440769   \n",
            "3        0.000660     0.001241  9.000000e-06    13.919656    11.185089   \n",
            "4        0.001216     0.001749  1.904000e-03    18.240685    13.121504   \n",
            "...           ...          ...           ...          ...          ...   \n",
            "4990     0.003461     0.005244  4.801000e-03    30.840061    47.343961   \n",
            "4991     0.000885     0.058221  1.460000e-03    25.217925     3.739616   \n",
            "4992     0.006121     0.002576  1.624000e-03     8.842676    60.873744   \n",
            "4993     0.003796     0.033296  8.210000e-04    15.050929    32.339680   \n",
            "4994     0.001925     0.004625  7.290000e-04    11.375896    22.624876   \n",
            "\n",
            "      Varianza_gZ  Suelo  \n",
            "0        1.486349      0  \n",
            "1        9.651980      0  \n",
            "2        2.509445      0  \n",
            "3        6.717576      0  \n",
            "4       60.384780      0  \n",
            "...           ...    ...  \n",
            "4990    61.598741      4  \n",
            "4991    55.145201      4  \n",
            "4992   391.932824      4  \n",
            "4993    21.109889      4  \n",
            "4994    12.249265      4  \n",
            "\n",
            "[4995 rows x 7 columns]\n"
          ]
        }
      ]
    },
    {
      "cell_type": "code",
      "source": [
        "#Creación del archivo de Excel\n",
        "datosDF.to_excel(\"caracteristicas.xlsx\")"
      ],
      "metadata": {
        "id": "LaaTKEgsvlWt"
      },
      "execution_count": 21,
      "outputs": []
    },
    {
      "cell_type": "markdown",
      "source": [
        "#**Clonación del repositorio**\n",
        "\n",
        "Se hace la clonación del respositorio público ubicado en gitHub."
      ],
      "metadata": {
        "id": "dtOSZYhwQKUI"
      }
    },
    {
      "cell_type": "code",
      "source": [
        "import pandas as pd\n",
        "import numpy as np\n",
        "import matplotlib.pyplot as plt\n",
        "import xlrd"
      ],
      "metadata": {
        "id": "5K1U10hoSZaO"
      },
      "execution_count": 22,
      "outputs": []
    },
    {
      "cell_type": "code",
      "source": [
        "import pandas as pd\n",
        "import numpy as np\n",
        "import matplotlib.pyplot as plt\n",
        "import xlrd\n",
        "wb=xlrd.open_workbook(\"/content/caracteristicas.xlsx\")\n",
        "sheet = wb.sheet_by_index(0)\n",
        "axx=sheet.col_values(1,start_rowx=1)\n",
        "ayy=sheet.col_values(2,start_rowx=1)\n",
        "clases=np.array(sheet.col_values(3,start_rowx=1))\n",
        "plt.plot(axx)\n",
        "plt.figure()\n",
        "plt.plot(ayy)"
      ],
      "metadata": {
        "colab": {
          "base_uri": "https://localhost:8080/",
          "height": 530
        },
        "id": "AfSDZuoRKW2L",
        "outputId": "18e609bd-d341-48e7-d155-23d95016ac9f"
      },
      "execution_count": 24,
      "outputs": [
        {
          "output_type": "execute_result",
          "data": {
            "text/plain": [
              "[<matplotlib.lines.Line2D at 0x7f29973005d0>]"
            ]
          },
          "metadata": {},
          "execution_count": 24
        },
        {
          "output_type": "display_data",
          "data": {
            "text/plain": [
              "<Figure size 432x288 with 1 Axes>"
            ],
            "image/png": "[encoded data removed]"
          },
          "metadata": {
            "needs_background": "light"
          }
        },
        {
          "output_type": "display_data",
          "data": {
            "text/plain": [
              "<Figure size 432x288 with 1 Axes>"
            ],
            "image/png": "[encoded data removed]"
          },
          "metadata": {
            "needs_background": "light"
          }
        }
      ]
    },
    {
      "cell_type": "code",
      "source": [
        "print(clases)"
      ],
      "metadata": {
        "id": "vrSN_x4kAEIH",
        "colab": {
          "base_uri": "https://localhost:8080/"
        },
        "outputId": "70b35226-cdc8-48db-c2e3-9b2cd3cc6778"
      },
      "execution_count": 25,
      "outputs": [
        {
          "output_type": "stream",
          "name": "stdout",
          "text": [
            "[1.23259516e-32 2.05000000e-04 1.38100000e-03 ... 1.62400000e-03\n",
            " 8.21000000e-04 7.29000000e-04]\n"
          ]
        }
      ]
    },
    {
      "cell_type": "code",
      "source": [
        "from sklearn.model_selection import train_test_split\n",
        "X=np.array([axx,ayy])\n",
        "X=X.transpose()\n",
        "plt.plot(X)"
      ],
      "metadata": {
        "colab": {
          "base_uri": "https://localhost:8080/",
          "height": 300
        },
        "id": "HrlTQ_UqqXba",
        "outputId": "038e42e2-8b6c-4a89-bc46-1c14a2772b02"
      },
      "execution_count": 26,
      "outputs": [
        {
          "output_type": "execute_result",
          "data": {
            "text/plain": [
              "[<matplotlib.lines.Line2D at 0x7f298bb18450>,\n",
              " <matplotlib.lines.Line2D at 0x7f298bb22910>]"
            ]
          },
          "metadata": {},
          "execution_count": 26
        },
        {
          "output_type": "display_data",
          "data": {
            "text/plain": [
              "<Figure size 432x288 with 1 Axes>"
            ],
            "image/png": "[encoded data removed]"
          },
          "metadata": {
            "needs_background": "light"
          }
        }
      ]
    },
    {
      "cell_type": "markdown",
      "source": [
        "División del dataset"
      ],
      "metadata": {
        "id": "Yc83SDmGo6pi"
      }
    },
    {
      "cell_type": "code",
      "source": [
        "X_train,X_test,y_train,y_test = train_test_split(X,clases,test_size=0.3)\n",
        "plt.plot(X_train)\n",
        "plt.figure()\n",
        "plt.plot(X_test)"
      ],
      "metadata": {
        "colab": {
          "base_uri": "https://localhost:8080/",
          "height": 548
        },
        "id": "Ykkk6OzYrgl1",
        "outputId": "547aa9c2-9abc-4b49-a514-9db39f2b3d7a"
      },
      "execution_count": 27,
      "outputs": [
        {
          "output_type": "execute_result",
          "data": {
            "text/plain": [
              "[<matplotlib.lines.Line2D at 0x7f298ba5d550>,\n",
              " <matplotlib.lines.Line2D at 0x7f298ba5d790>]"
            ]
          },
          "metadata": {},
          "execution_count": 27
        },
        {
          "output_type": "display_data",
          "data": {
            "text/plain": [
              "<Figure size 432x288 with 1 Axes>"
            ],
            "image/png": "[encoded data removed]"
          },
          "metadata": {
            "needs_background": "light"
          }
        },
        {
          "output_type": "display_data",
          "data": {
            "text/plain": [
              "<Figure size 432x288 with 1 Axes>"
            ],
            "image/png": "[encoded data removed]"
          },
          "metadata": {
            "needs_background": "light"
          }
        }
      ]
    },
    {
      "cell_type": "code",
      "source": [],
      "metadata": {
        "id": "jpesslD3fprc"
      },
      "execution_count": 27,
      "outputs": []
    },
    {
      "cell_type": "markdown",
      "source": [
        "Clases del grupo de prueba\n",
        "\n"
      ],
      "metadata": {
        "id": "Bt1OWG7yC7yA"
      }
    },
    {
      "cell_type": "code",
      "source": [
        "print(y_test)"
      ],
      "metadata": {
        "colab": {
          "base_uri": "https://localhost:8080/"
        },
        "id": "Rtp-LDucAUm3",
        "outputId": "e60d6233-136a-4c7b-9ffe-99eac73739e9"
      },
      "execution_count": 28,
      "outputs": [
        {
          "output_type": "stream",
          "name": "stdout",
          "text": [
            "[2.16400e-03 2.09000e-04 6.90000e-05 ... 1.79090e-02 8.66100e-03\n",
            " 1.09564e-01]\n"
          ]
        }
      ]
    }
  ]
}